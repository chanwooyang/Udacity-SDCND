{
 "cells": [
  {
   "cell_type": "markdown",
   "metadata": {},
   "source": [
    "# Self-Driving Car Engineer Nanodegree\n",
    "\n",
    "## Deep Learning\n",
    "\n",
    "## Project: Build a Traffic Sign Recognition Classifier\n",
    "\n",
    "In this notebook, a template is provided for you to implement your functionality in stages, which is required to successfully complete this project. If additional code is required that cannot be included in the notebook, be sure that the Python code is successfully imported and included in your submission if necessary. \n",
    "\n",
    "> **Note**: Once you have completed all of the code implementations, you need to finalize your work by exporting the iPython Notebook as an HTML document. Before exporting the notebook to html, all of the code cells need to have been run so that reviewers can see the final implementation and output. You can then export the notebook by using the menu above and navigating to  \\n\",\n",
    "    \"**File -> Download as -> HTML (.html)**. Include the finished document along with this notebook as your submission. \n",
    "\n",
    "In addition to implementing code, there is a writeup to complete. The writeup should be completed in a separate file, which can be either a markdown file or a pdf document. There is a [write up template](https://github.com/udacity/CarND-Traffic-Sign-Classifier-Project/blob/master/writeup_template.md) that can be used to guide the writing process. Completing the code template and writeup template will cover all of the [rubric points](https://review.udacity.com/#!/rubrics/481/view) for this project.\n",
    "\n",
    "The [rubric](https://review.udacity.com/#!/rubrics/481/view) contains \"Stand Out Suggestions\" for enhancing the project beyond the minimum requirements. The stand out suggestions are optional. If you decide to pursue the \"stand out suggestions\", you can include the code in this Ipython notebook and also discuss the results in the writeup file.\n",
    "\n",
    "\n",
    ">**Note:** Code and Markdown cells can be executed using the **Shift + Enter** keyboard shortcut. In addition, Markdown cells can be edited by typically double-clicking the cell to enter edit mode."
   ]
  },
  {
   "cell_type": "markdown",
   "metadata": {},
   "source": [
    "---\n",
    "## Step 0: Load The Data"
   ]
  },
  {
   "cell_type": "code",
   "execution_count": 1,
   "metadata": {
    "collapsed": true
   },
   "outputs": [],
   "source": [
    "import numpy as np\n",
    "import pandas as pd\n",
    "import os\n",
    "import hashlib\n",
    "from urllib.request import urlretrieve\n",
    "import zipfile"
   ]
  },
  {
   "cell_type": "code",
   "execution_count": 2,
   "metadata": {},
   "outputs": [
    {
     "name": "stdout",
     "output_type": "stream",
     "text": [
      "All files are downloaded\n"
     ]
    }
   ],
   "source": [
    "def download(url, file):\n",
    "    \"\"\"\n",
    "    Download file from <url>\n",
    "    :param url: URL to file\n",
    "    :param file: Local file path\n",
    "    \"\"\"\n",
    "    if not os.path.isfile(file):\n",
    "        print('Downloading '+file+'...')\n",
    "        urlretrieve(url,file)\n",
    "        print('Download Complete')\n",
    "    \n",
    "# Download training and test datasets from Udacity SDCND Lesson Resources\n",
    "download('https://d17h27t6h515a5.cloudfront.net/topher/2017/February/5898cd6f_traffic-signs-data/traffic-signs-data.zip','traffic-signs-data.zip')\n",
    "\n",
    "# print(hashlib.md5(open('traffic-signs-data.zip','rb').read()).hexdigest())\n",
    "\n",
    "# Make sure files are not corrupted\n",
    "assert hashlib.md5(open('traffic-signs-data.zip','rb').read()).hexdigest() == 'd1f6275a17123ce3fab090105bf222af', ...\n",
    "'traffic-signs-data.zip file is corrupted.  Remove the file and try again.'\n",
    "print('All files are downloaded')"
   ]
  },
  {
   "cell_type": "code",
   "execution_count": 3,
   "metadata": {},
   "outputs": [
    {
     "name": "stdout",
     "output_type": "stream",
     "text": [
      "Data set files are unzipped\n"
     ]
    }
   ],
   "source": [
    "def unzip_file(file):\n",
    "    \"\"\"\n",
    "    Uncompress features and labels from a zip file\n",
    "    :param file: The zip file to extract the data from\n",
    "    \"\"\"\n",
    "    \n",
    "    unzipfile = zipfile.ZipFile('traffic-signs-data.zip','r')\n",
    "    if not os.path.exists('dataset'):\n",
    "        os.makedirs('dataset')\n",
    "    if not os.path.isfile('dataset/test.p'): \n",
    "        unzipfile.extractall('dataset')\n",
    "        unzipfile.close()\n",
    "unzip_file('traffic-signs-data.zip')\n",
    "print('Data set files are unzipped')"
   ]
  },
  {
   "cell_type": "code",
   "execution_count": 4,
   "metadata": {},
   "outputs": [
    {
     "name": "stdout",
     "output_type": "stream",
     "text": [
      "(34799, 32, 32, 3)\n",
      "(34799,)\n",
      "(34799, 2)\n",
      "(34799, 4)\n"
     ]
    }
   ],
   "source": [
    "# Load pickled data\n",
    "import pickle\n",
    "\n",
    "# TODO: Fill this in based on where you saved the training and testing data\n",
    "\n",
    "training_file = 'dataset/train.p'\n",
    "validation_file= 'dataset/valid.p'\n",
    "testing_file = 'dataset/test.p'\n",
    "\n",
    "with open(training_file, mode='rb') as f:\n",
    "    train = pickle.load(f)\n",
    "with open(validation_file, mode='rb') as f:\n",
    "    valid = pickle.load(f)\n",
    "with open(testing_file, mode='rb') as f:\n",
    "    test = pickle.load(f)\n",
    "    \n",
    "X_train, y_train = train['features'], train['labels']\n",
    "X_valid, y_valid = valid['features'], valid['labels']\n",
    "X_test, y_test = test['features'], test['labels']\n",
    "\n",
    "print(train['features'].shape)\n",
    "print(train['labels'].shape)\n",
    "print(train['sizes'].shape)\n",
    "print(train['coords'].shape)"
   ]
  },
  {
   "cell_type": "markdown",
   "metadata": {},
   "source": [
    "---\n",
    "\n",
    "## Step 1: Dataset Summary & Exploration\n",
    "\n",
    "The pickled data is a dictionary with 4 key/value pairs:\n",
    "\n",
    "- `'features'` is a 4D array containing raw pixel data of the traffic sign images, (num examples, width, height, channels).\n",
    "- `'labels'` is a 1D array containing the label/class id of the traffic sign. The file `signnames.csv` contains id -> name mappings for each id.\n",
    "- `'sizes'` is a list containing tuples, (width, height) representing the original width and height the image.\n",
    "- `'coords'` is a list containing tuples, (x1, y1, x2, y2) representing coordinates of a bounding box around the sign in the image. **THESE COORDINATES ASSUME THE ORIGINAL IMAGE. THE PICKLED DATA CONTAINS RESIZED VERSIONS (32 by 32) OF THESE IMAGES**\n",
    "\n",
    "Complete the basic data summary below. Use python, numpy and/or pandas methods to calculate the data summary rather than hard coding the results. For example, the [pandas shape method](http://pandas.pydata.org/pandas-docs/stable/generated/pandas.DataFrame.shape.html) might be useful for calculating some of the summary results. "
   ]
  },
  {
   "cell_type": "markdown",
   "metadata": {},
   "source": [
    "### Provide a Basic Summary of the Data Set Using Python, Numpy and/or Pandas"
   ]
  },
  {
   "cell_type": "code",
   "execution_count": 5,
   "metadata": {},
   "outputs": [
    {
     "name": "stdout",
     "output_type": "stream",
     "text": [
      "Number of training examples = 34799\n",
      "Number of validation examples = 4410\n",
      "Number of testing examples = 12630\n",
      "Image data shape = (32, 32, 3)\n",
      "Number of classes = 43\n"
     ]
    }
   ],
   "source": [
    "### Replace each question mark with the appropriate value. \n",
    "### Use python, pandas or numpy methods rather than hard coding the results\n",
    "\n",
    "# TODO: Number of training examples\n",
    "n_train = len(X_train)\n",
    "assert(len(X_train) == len(y_train)) # make sure no. of features and no. of labels are the same\n",
    "\n",
    "# TODO: Number of validation examples\n",
    "n_validation = len(X_valid)\n",
    "assert(len(X_valid) == len(y_valid)) # make sure no. of features and no. of labels are the same\n",
    "\n",
    "# TODO: Number of testing examples.\n",
    "n_test = len(X_test)\n",
    "assert(len(X_test == len(y_test))) # make sure no. of features and no. of labels are the same\n",
    "\n",
    "# TODO: What's the shape of an traffic sign image?\n",
    "image_shape = X_train.shape[1:]\n",
    "\n",
    "# TODO: How many unique classes/labels there are in the dataset.\n",
    "n_classes = len(np.unique(y_train))\n",
    "\n",
    "print(\"Number of training examples =\", n_train)\n",
    "print(\"Number of validation examples =\", n_validation)\n",
    "print(\"Number of testing examples =\", n_test)\n",
    "print(\"Image data shape =\", image_shape)\n",
    "print(\"Number of classes =\", n_classes)"
   ]
  },
  {
   "cell_type": "markdown",
   "metadata": {},
   "source": [
    "### Include an exploratory visualization of the dataset"
   ]
  },
  {
   "cell_type": "markdown",
   "metadata": {},
   "source": [
    "Visualize the German Traffic Signs Dataset using the pickled file(s). This is open ended, suggestions include: plotting traffic sign images, plotting the count of each sign, etc. \n",
    "\n",
    "The [Matplotlib](http://matplotlib.org/) [examples](http://matplotlib.org/examples/index.html) and [gallery](http://matplotlib.org/gallery.html) pages are a great resource for doing visualizations in Python.\n",
    "\n",
    "**NOTE:** It's recommended you start with something simple first. If you wish to do more, come back to it after you've completed the rest of the sections. It can be interesting to look at the distribution of classes in the training, validation and test set. Is the distribution the same? Are there more examples of some classes than others?"
   ]
  },
  {
   "cell_type": "code",
   "execution_count": 6,
   "metadata": {
    "collapsed": true
   },
   "outputs": [],
   "source": [
    "### Data exploration visualization code goes here.\n",
    "### Feel free to use as many code cells as needed.\n",
    "import matplotlib.pyplot as plt\n",
    "# Visualizations will be shown in the notebook.\n",
    "%matplotlib inline"
   ]
  },
  {
   "cell_type": "markdown",
   "metadata": {},
   "source": [
    "----\n",
    "\n",
    "## Step 2: Design and Test a Model Architecture\n",
    "\n",
    "Design and implement a deep learning model that learns to recognize traffic signs. Train and test your model on the [German Traffic Sign Dataset](http://benchmark.ini.rub.de/?section=gtsrb&subsection=dataset).\n",
    "\n",
    "The LeNet-5 implementation shown in the [classroom](https://classroom.udacity.com/nanodegrees/nd013/parts/fbf77062-5703-404e-b60c-95b78b2f3f9e/modules/6df7ae49-c61c-4bb2-a23e-6527e69209ec/lessons/601ae704-1035-4287-8b11-e2c2716217ad/concepts/d4aca031-508f-4e0b-b493-e7b706120f81) at the end of the CNN lesson is a solid starting point. You'll have to change the number of classes and possibly the preprocessing, but aside from that it's plug and play! \n",
    "\n",
    "With the LeNet-5 solution from the lecture, you should expect a validation set accuracy of about 0.89. To meet specifications, the validation set accuracy will need to be at least 0.93. It is possible to get an even higher accuracy, but 0.93 is the minimum for a successful project submission. \n",
    "\n",
    "There are various aspects to consider when thinking about this problem:\n",
    "\n",
    "- Neural network architecture (is the network over or underfitting?)\n",
    "- Play around preprocessing techniques (normalization, rgb to grayscale, etc)\n",
    "- Number of examples per label (some have more than others).\n",
    "- Generate fake data.\n",
    "\n",
    "Here is an example of a [published baseline model on this problem](http://yann.lecun.com/exdb/publis/pdf/sermanet-ijcnn-11.pdf). It's not required to be familiar with the approach used in the paper but, it's good practice to try to read papers like these."
   ]
  },
  {
   "cell_type": "markdown",
   "metadata": {},
   "source": [
    "### Pre-process the Data Set (normalization, grayscale, etc.)"
   ]
  },
  {
   "cell_type": "markdown",
   "metadata": {},
   "source": [
    "Minimally, the image data should be normalized so that the data has mean zero and equal variance. For image data, `(pixel - 128)/ 128` is a quick way to approximately normalize the data and can be used in this project. \n",
    "\n",
    "Other pre-processing steps are optional. You can try different techniques to see if it improves performance. \n",
    "\n",
    "Use the code cell (or multiple code cells, if necessary) to implement the first step of your project."
   ]
  },
  {
   "cell_type": "code",
   "execution_count": 8,
   "metadata": {
    "collapsed": true
   },
   "outputs": [],
   "source": [
    "### Preprocess the data here. It is required to normalize the data. \n",
    "### Other preprocessing steps could include \n",
    "### converting to grayscale, etc.\n",
    "### Feel free to use as many code cells as needed.\n",
    "\n",
    "def normalize_grayscale(image_data):\n",
    "    \"\"\"\n",
    "    Normalize the image data with Min-Max scaling to a range of [a, b]\n",
    "    X' = a + ((X - Xmin)*(b - a)) / (Xmax - Xmin)\n",
    "    \"\"\"\n",
    "    \n",
    "    a = 0.05\n",
    "    b = 0.95\n",
    "    xMin = 0\n",
    "    xMax = 255\n",
    "    \n",
    "    normalized_image = a + ((image_data-xMin)*(b-a))/(xMax-xMin)\n",
    "    \n",
    "    return normalized_image\n",
    "\n",
    "norm_X_train = normalize_grayscale(X_train)\n",
    "norm_X_valid = normalize_grayscale(X_valid)\n",
    "norm_X_test = normalize_grayscale(X_test)"
   ]
  },
  {
   "cell_type": "code",
   "execution_count": 9,
   "metadata": {},
   "outputs": [
    {
     "name": "stdout",
     "output_type": "stream",
     "text": [
      "10\n"
     ]
    },
    {
     "data": {
      "image/png": "[encoded data removed]",
      "text/plain": [
       "<matplotlib.figure.Figure at 0x7ff8560c5400>"
      ]
     },
     "metadata": {},
     "output_type": "display_data"
    }
   ],
   "source": [
    "### Visualize Image Data\n",
    "\n",
    "index = np.random.randint(0, n_train)\n",
    "image_sample = X_train[index]\n",
    "norm_image_sample = norm_X_train[index]\n",
    "\n",
    "plt.figure()\n",
    "plt.subplot(211)\n",
    "plt.imshow(image_sample)\n",
    "# plt.subplot(212)\n",
    "# plt.imshow(norm_image_sample, interpolation=\"nearest\", vmin =-1, vmax=-1, cmap=\"gray\")\n",
    "print(y_train[index])"
   ]
  },
  {
   "cell_type": "markdown",
   "metadata": {},
   "source": [
    "### Model Architecture"
   ]
  },
  {
   "cell_type": "code",
   "execution_count": 10,
   "metadata": {
    "collapsed": true
   },
   "outputs": [],
   "source": [
    "### Define your architecture here.\n",
    "### Feel free to use as many code cells as needed.\n",
    "\n",
    "import tensorflow as tf\n",
    "import random\n",
    "from tensorflow.contrib.layers import flatten\n",
    "from sklearn.utils import shuffle"
   ]
  },
  {
   "cell_type": "code",
   "execution_count": 37,
   "metadata": {
    "collapsed": true
   },
   "outputs": [],
   "source": [
    "EPOCHS = 50\n",
    "BATCH_SIZE = 512\n",
    "keep_probability = 0.75"
   ]
  },
  {
   "cell_type": "code",
   "execution_count": 64,
   "metadata": {
    "collapsed": true
   },
   "outputs": [],
   "source": [
    "def convlayer(input_tensor, output_size, k_size, k_stride, k_pad, pool_ksize, pool_stride, pool_pad):\n",
    "    batch_stride = [1]\n",
    "    feature_stride = [1]\n",
    "    input_depth = input_tensor.get_shape().as_list()[-1]\n",
    "    \n",
    "    # Convolutional Layer Vairables\n",
    "    convWeight = tf.Variable(tf.truncated_normal(k_size+[input_depth,output_size], stddev=0.1))\n",
    "    convBias = tf.Variable(tf.zeros(output_size))\n",
    "    \n",
    "    # Convolutional Layer\n",
    "    conv_layer = tf.nn.conv2d(input_tensor, convWeight, batch_stride+k_stride+feature_stride, padding=k_pad)\n",
    "    conv_layer = tf.nn.bias_add(conv_layer, convBias)\n",
    "    \n",
    "    # Activation\n",
    "    conv_layer = tf.nn.relu(conv_layer)\n",
    "    print('conv_layer shape: {}'.format(conv_layer.get_shape().as_list()))\n",
    "    \n",
    "    # Pooling\n",
    "    conv_layer = tf.nn.max_pool(conv_layer, batch_stride+pool_ksize+feature_stride, \n",
    "                               batch_stride+pool_stride+feature_stride, padding=pool_pad)\n",
    "    print('conv_layer shape after max pool: {}'.format(conv_layer.get_shape().as_list()))\n",
    "    \n",
    "    return conv_layer"
   ]
  },
  {
   "cell_type": "code",
   "execution_count": 65,
   "metadata": {
    "collapsed": true
   },
   "outputs": [],
   "source": [
    "def fully_connected(input_tensor, output_size, dropout, keep_prob):\n",
    "    \n",
    "    input_shape = input_tensor.get_shape().as_list()[-1]\n",
    "    weight = tf.Variable(tf.truncated_normal([input_shape, output_size], stddev=0.1))\n",
    "    bias = tf.Variable(tf.zeros(output_size))\n",
    "    \n",
    "    # Fully Connected Layer\n",
    "    fully_con_layer = tf.add(tf.matmul(input_tensor, weight), bias)\n",
    "    \n",
    "    # Activation\n",
    "    fully_con_layer = tf.nn.relu(fully_con_layer)\n",
    "    print('fully conn layer shape: {}'.format(fully_con_layer.get_shape().as_list()))\n",
    "    \n",
    "    if dropout:\n",
    "        return tf.nn.dropout(fully_con_layer, keep_prob=keep_prob)\n",
    "    elif not dropout:\n",
    "        return fully_con_layer"
   ]
  },
  {
   "cell_type": "code",
   "execution_count": 66,
   "metadata": {
    "collapsed": true
   },
   "outputs": [],
   "source": [
    "def output_layer(input_tensor, output_size):\n",
    "    input_shape = input_tensor.get_shape().as_list()[-1]\n",
    "    weight = tf.Variable(tf.truncated_normal([input_shape, output_size], stddev=0.1))\n",
    "    bias = tf.Variable(tf.zeros(output_size))\n",
    "    \n",
    "    output_layer = tf.add(tf.matmul(input_tensor, weight), bias)\n",
    "    print('output layer shape: {}'.format(output_layer.get_shape().as_list()))\n",
    "    \n",
    "    return output_layer"
   ]
  },
  {
   "cell_type": "code",
   "execution_count": 67,
   "metadata": {
    "collapsed": true
   },
   "outputs": [],
   "source": [
    "from tensorflow.contrib.layers import flatten\n",
    "\n",
    "def LeNet(x, keep_prob):    \n",
    "    # Arguments used for tf.truncated_normal, randomly defines variables for the weights and biases for each layer\n",
    "    # x: 4D tensor [Batch_size, Feature_height, Feature_wdith, Color_Channel]\n",
    "\n",
    "    # Image data Shape\n",
    "    feature_shape = x.get_shape().as_list()\n",
    "    batch_size = feature_shape[0]\n",
    "    img_height = feature_shape[1]\n",
    "    img_width = feature_shape[2]\n",
    "    color_channel = feature_shape[3]\n",
    "    print('feature_shape: {}'.format(feature_shape))\n",
    "\n",
    "    # Conv Layer 1\n",
    "    input1 = x\n",
    "    output_size1 = 20\n",
    "    k_size1 = [5,5]\n",
    "    k_stride1 = [1,1]\n",
    "    k_pad1 = 'VALID'\n",
    "    pool_size1 = [2,2]\n",
    "    pool_stride1 = [2,2]\n",
    "    pool_pad1 = 'SAME'\n",
    "    conv_layer1 = convlayer(input1, output_size1, k_size1, k_stride1, k_pad1, pool_size1, pool_stride1, pool_pad1)\n",
    "    \n",
    "    # Conv Layer 2\n",
    "    input2 = conv_layer1\n",
    "    output_size2 = 50\n",
    "    k_size2 = [5,5]\n",
    "    k_stride2 = [1,1]\n",
    "    k_pad2 = 'VALID'\n",
    "    pool_size2 = [4,4]\n",
    "    pool_stride2 = [2,2]\n",
    "    pool_pad2 = 'SAME'\n",
    "    conv_layer2 = convlayer(input2, output_size2, k_size2, k_stride2, k_pad2, pool_size2, pool_stride2, pool_pad2)\n",
    "\n",
    "    # Flatten. Input = 5x5x16. Output = 400.\n",
    "    # flattened layer: 4D Tensor --> 2D Tensor [Batch Size, Flattened Image Size]\n",
    "    layer2_shape = conv_layer2.get_shape().as_list()\n",
    "    flat_size = np.prod(layer2_shape[1:])\n",
    "    layer2_flat = tf.reshape(conv_layer2,[-1, flat_size])\n",
    "    print('layer3 input shape: {}'.format(layer2_flat.get_shape().as_list()))\n",
    "\n",
    "    # Fully Connected Layer 3\n",
    "    input3 = layer2_flat\n",
    "    output_size3 = 700\n",
    "    dropout3 = True\n",
    "    keep_prob3 = keep_prob\n",
    "    fully_con_layer3 = fully_connected(input3, output_size3, dropout3, keep_prob3)\n",
    "    \n",
    "    # Fully Connected Layer 4\n",
    "    input4 = fully_con_layer3\n",
    "    output_size4 = 300\n",
    "    dropout4 = True\n",
    "    keep_prob4 = keep_prob\n",
    "    fully_con_layer4 = fully_connected(input4, output_size4, dropout4, keep_prob4)\n",
    "\n",
    "    # Fully Connected Layer 5\n",
    "    input5 = fully_con_layer4\n",
    "    output_size5 = 100\n",
    "    dropout5 = True\n",
    "    keep_prob5 = keep_prob\n",
    "    fully_con_layer5 = fully_connected(input5, output_size5, dropout5, keep_prob5)\n",
    "    \n",
    "    # Output Layer: Fully Connected. Input = 84. Output = 10.\n",
    "    input6 = fully_con_layer5\n",
    "    output_size6 = n_classes\n",
    "    logits = output_layer(input6, output_size6)\n",
    "\n",
    "    return logits"
   ]
  },
  {
   "cell_type": "code",
   "execution_count": 68,
   "metadata": {
    "collapsed": true
   },
   "outputs": [],
   "source": [
    "x = tf.placeholder(tf.float32, np.append(None,image_shape))\n",
    "y = tf.placeholder(tf.int32, (None))\n",
    "keep_prob = tf.placeholder(tf.float32, (None))\n",
    "one_hot_y = tf.one_hot(y, n_classes)"
   ]
  },
  {
   "cell_type": "markdown",
   "metadata": {},
   "source": [
    "### Train, Validate and Test the Model"
   ]
  },
  {
   "cell_type": "markdown",
   "metadata": {},
   "source": [
    "A validation set can be used to assess how well the model is performing. A low accuracy on the training and validation\n",
    "sets imply underfitting. A high accuracy on the training set but low accuracy on the validation set implies overfitting."
   ]
  },
  {
   "cell_type": "code",
   "execution_count": 72,
   "metadata": {},
   "outputs": [
    {
     "name": "stdout",
     "output_type": "stream",
     "text": [
      "feature_shape: [None, 32, 32, 3]\n",
      "conv_layer shape: [None, 28, 28, 20]\n",
      "conv_layer shape after max pool: [None, 14, 14, 20]\n",
      "conv_layer shape: [None, 10, 10, 50]\n",
      "conv_layer shape after max pool: [None, 5, 5, 50]\n",
      "layer3 input shape: [None, 1250]\n",
      "fully conn layer shape: [None, 700]\n",
      "fully conn layer shape: [None, 300]\n",
      "fully conn layer shape: [None, 100]\n",
      "output layer shape: [None, 43]\n"
     ]
    }
   ],
   "source": [
    "### Train your model here.\n",
    "### Calculate and report the accuracy on the training and validation set.\n",
    "### Once a final model architecture is selected, \n",
    "### the accuracy on the test set should be calculated and reported as well.\n",
    "### Feel free to use as many code cells as needed.\n",
    "\n",
    "rate = 0.0005\n",
    "\n",
    "logits = LeNet(x,keep_prob)\n",
    "cross_entropy = tf.nn.softmax_cross_entropy_with_logits(labels=one_hot_y, logits=logits)\n",
    "loss_operation = tf.reduce_mean(cross_entropy)\n",
    "optimizer = tf.train.AdamOptimizer(learning_rate = rate)\n",
    "training_operation = optimizer.minimize(loss_operation)"
   ]
  },
  {
   "cell_type": "code",
   "execution_count": 73,
   "metadata": {
    "collapsed": true
   },
   "outputs": [],
   "source": [
    "### Model Evaluation\n",
    "\n",
    "correct_prediction = tf.equal(tf.argmax(logits, 1), tf.argmax(one_hot_y, 1))\n",
    "accuracy_operation = tf.reduce_mean(tf.cast(correct_prediction, tf.float32))\n",
    "saver = tf.train.Saver()\n",
    "\n",
    "def evaluate(train_X_data, train_y_data, valid_X_data, valid_y_data):\n",
    "    num_examples = len(valid_X_data)\n",
    "    total_accuracy = 0\n",
    "    sess = tf.get_default_session()\n",
    "    for offset in range(0, num_examples, BATCH_SIZE):\n",
    "        valid_batch_x, valid_batch_y = valid_X_data[offset:offset+BATCH_SIZE], valid_y_data[offset:offset+BATCH_SIZE]\n",
    "#         loss = sess.run(loss_operation, feed_dict={x: train_X_data, y:train_y_data, keep_prob:1.0})\n",
    "        accuracy = sess.run(accuracy_operation, feed_dict={x: valid_batch_x, y: valid_batch_y, keep_prob:1.0})\n",
    "        total_accuracy += (accuracy * len(batch_x))\n",
    "    return total_accuracy / num_examples #, loss"
   ]
  },
  {
   "cell_type": "code",
   "execution_count": 74,
   "metadata": {
    "scrolled": false
   },
   "outputs": [
    {
     "name": "stdout",
     "output_type": "stream",
     "text": [
      "Training...\n",
      "\n",
      "EPOCH 1 ...\t Validation Accuracy = 0.454\n",
      "\n",
      "EPOCH 2 ...\t Validation Accuracy = 0.700\n",
      "\n",
      "EPOCH 3 ...\t Validation Accuracy = 0.826\n",
      "\n",
      "EPOCH 4 ...\t Validation Accuracy = 0.873\n",
      "\n",
      "EPOCH 5 ...\t Validation Accuracy = 0.906\n",
      "\n",
      "EPOCH 6 ...\t Validation Accuracy = 0.919\n",
      "\n",
      "EPOCH 7 ...\t Validation Accuracy = 0.932\n",
      "\n",
      "EPOCH 8 ...\t Validation Accuracy = 0.943\n",
      "\n",
      "EPOCH 9 ...\t Validation Accuracy = 0.936\n",
      "\n",
      "EPOCH 10 ...\t Validation Accuracy = 0.948\n",
      "\n",
      "EPOCH 11 ...\t Validation Accuracy = 0.946\n",
      "\n",
      "EPOCH 12 ...\t Validation Accuracy = 0.956\n",
      "\n",
      "EPOCH 13 ...\t Validation Accuracy = 0.954\n",
      "\n",
      "EPOCH 14 ...\t Validation Accuracy = 0.960\n",
      "\n",
      "EPOCH 15 ...\t Validation Accuracy = 0.958\n",
      "\n",
      "EPOCH 16 ...\t Validation Accuracy = 0.952\n",
      "\n",
      "EPOCH 17 ...\t Validation Accuracy = 0.959\n",
      "\n",
      "EPOCH 18 ...\t Validation Accuracy = 0.954\n",
      "\n",
      "EPOCH 19 ...\t Validation Accuracy = 0.958\n",
      "\n",
      "EPOCH 20 ...\t Validation Accuracy = 0.961\n",
      "\n",
      "EPOCH 21 ...\t Validation Accuracy = 0.961\n",
      "\n",
      "EPOCH 22 ...\t Validation Accuracy = 0.965\n",
      "\n",
      "EPOCH 23 ...\t Validation Accuracy = 0.960\n",
      "\n",
      "EPOCH 24 ...\t Validation Accuracy = 0.963\n",
      "\n",
      "EPOCH 25 ...\t Validation Accuracy = 0.971\n",
      "\n",
      "EPOCH 26 ...\t Validation Accuracy = 0.969\n",
      "\n",
      "EPOCH 27 ...\t Validation Accuracy = 0.972\n",
      "\n",
      "EPOCH 28 ...\t Validation Accuracy = 0.965\n",
      "\n",
      "EPOCH 29 ...\t Validation Accuracy = 0.970\n",
      "\n",
      "EPOCH 30 ...\t Validation Accuracy = 0.964\n",
      "\n",
      "EPOCH 31 ...\t Validation Accuracy = 0.967\n",
      "\n",
      "EPOCH 32 ...\t Validation Accuracy = 0.968\n",
      "\n",
      "EPOCH 33 ...\t Validation Accuracy = 0.972\n",
      "\n",
      "EPOCH 34 ...\t Validation Accuracy = 0.968\n",
      "\n",
      "EPOCH 35 ...\t Validation Accuracy = 0.964\n",
      "\n",
      "EPOCH 36 ...\t Validation Accuracy = 0.966\n",
      "\n",
      "EPOCH 37 ...\t Validation Accuracy = 0.964\n",
      "\n",
      "EPOCH 38 ...\t Validation Accuracy = 0.964\n",
      "\n",
      "EPOCH 39 ...\t Validation Accuracy = 0.968\n",
      "\n",
      "EPOCH 40 ...\t Validation Accuracy = 0.966\n",
      "\n",
      "EPOCH 41 ...\t Validation Accuracy = 0.966\n",
      "\n",
      "EPOCH 42 ...\t Validation Accuracy = 0.967\n",
      "\n",
      "EPOCH 43 ...\t Validation Accuracy = 0.966\n",
      "\n",
      "EPOCH 44 ...\t Validation Accuracy = 0.970\n",
      "\n",
      "EPOCH 45 ...\t Validation Accuracy = 0.974\n",
      "\n",
      "EPOCH 46 ...\t Validation Accuracy = 0.973\n",
      "\n",
      "EPOCH 47 ...\t Validation Accuracy = 0.970\n",
      "\n",
      "EPOCH 48 ...\t Validation Accuracy = 0.970\n",
      "\n",
      "EPOCH 49 ...\t Validation Accuracy = 0.972\n",
      "\n",
      "EPOCH 50 ...\t Validation Accuracy = 0.968\n",
      "\n",
      "Model saved\n"
     ]
    }
   ],
   "source": [
    "with tf.Session() as sess:\n",
    "    sess.run(tf.global_variables_initializer())\n",
    "    num_examples = len(norm_X_train)\n",
    "    \n",
    "    print(\"Training...\")\n",
    "    print()\n",
    "    for i in range(EPOCHS):\n",
    "        norm_X_train, y_train = shuffle(norm_X_train, y_train)\n",
    "        for offset in range(0, num_examples, BATCH_SIZE):\n",
    "            end = offset + BATCH_SIZE\n",
    "            batch_x, batch_y = norm_X_train[offset:end], y_train[offset:end]\n",
    "            sess.run(training_operation, feed_dict={x: batch_x, y: batch_y, keep_prob:keep_probability})\n",
    "            \n",
    "        validation_accuracy = evaluate(norm_X_train, y_train, norm_X_valid, y_valid)\n",
    "        print(\"EPOCH {} ...\".format(i+1) + \"\\t Validation Accuracy = {:.3f}\".format(validation_accuracy))\n",
    "        # + \"\\t Loss = {:.3f}\".format(loss)\n",
    "        print()\n",
    "        \n",
    "    saver.save(sess, './lenet')\n",
    "    print(\"Model saved\")"
   ]
  },
  {
   "cell_type": "markdown",
   "metadata": {},
   "source": [
    "---\n",
    "\n",
    "## Step 3: Test a Model on New Images\n",
    "\n",
    "To give yourself more insight into how your model is working, download at least five pictures of German traffic signs from the web and use your model to predict the traffic sign type.\n",
    "\n",
    "You may find `signnames.csv` useful as it contains mappings from the class id (integer) to the actual sign name."
   ]
  },
  {
   "cell_type": "markdown",
   "metadata": {},
   "source": [
    "### Load and Output the Images"
   ]
  },
  {
   "cell_type": "code",
   "execution_count": null,
   "metadata": {
    "collapsed": true
   },
   "outputs": [],
   "source": [
    "### Load the images and plot them here.\n",
    "### Feel free to use as many code cells as needed."
   ]
  },
  {
   "cell_type": "markdown",
   "metadata": {},
   "source": [
    "### Predict the Sign Type for Each Image"
   ]
  },
  {
   "cell_type": "code",
   "execution_count": null,
   "metadata": {
    "collapsed": true
   },
   "outputs": [],
   "source": [
    "### Run the predictions here and use the model to output the prediction for each image.\n",
    "### Make sure to pre-process the images with the same pre-processing pipeline used earlier.\n",
    "### Feel free to use as many code cells as needed."
   ]
  },
  {
   "cell_type": "markdown",
   "metadata": {},
   "source": [
    "### Analyze Performance"
   ]
  },
  {
   "cell_type": "code",
   "execution_count": null,
   "metadata": {
    "collapsed": true
   },
   "outputs": [],
   "source": [
    "### Calculate the accuracy for these 5 new images. \n",
    "### For example, if the model predicted 1 out of 5 signs correctly, it's 20% accurate on these new images."
   ]
  },
  {
   "cell_type": "markdown",
   "metadata": {},
   "source": [
    "### Output Top 5 Softmax Probabilities For Each Image Found on the Web"
   ]
  },
  {
   "cell_type": "markdown",
   "metadata": {},
   "source": [
    "For each of the new images, print out the model's softmax probabilities to show the **certainty** of the model's predictions (limit the output to the top 5 probabilities for each image). [`tf.nn.top_k`](https://www.tensorflow.org/versions/r0.12/api_docs/python/nn.html#top_k) could prove helpful here. \n",
    "\n",
    "The example below demonstrates how tf.nn.top_k can be used to find the top k predictions for each image.\n",
    "\n",
    "`tf.nn.top_k` will return the values and indices (class ids) of the top k predictions. So if k=3, for each sign, it'll return the 3 largest probabilities (out of a possible 43) and the correspoding class ids.\n",
    "\n",
    "Take this numpy array as an example. The values in the array represent predictions. The array contains softmax probabilities for five candidate images with six possible classes. `tf.nn.top_k` is used to choose the three classes with the highest probability:\n",
    "\n",
    "```\n",
    "# (5, 6) array\n",
    "a = np.array([[ 0.24879643,  0.07032244,  0.12641572,  0.34763842,  0.07893497,\n",
    "         0.12789202],\n",
    "       [ 0.28086119,  0.27569815,  0.08594638,  0.0178669 ,  0.18063401,\n",
    "         0.15899337],\n",
    "       [ 0.26076848,  0.23664738,  0.08020603,  0.07001922,  0.1134371 ,\n",
    "         0.23892179],\n",
    "       [ 0.11943333,  0.29198961,  0.02605103,  0.26234032,  0.1351348 ,\n",
    "         0.16505091],\n",
    "       [ 0.09561176,  0.34396535,  0.0643941 ,  0.16240774,  0.24206137,\n",
    "         0.09155967]])\n",
    "```\n",
    "\n",
    "Running it through `sess.run(tf.nn.top_k(tf.constant(a), k=3))` produces:\n",
    "\n",
    "```\n",
    "TopKV2(values=array([[ 0.34763842,  0.24879643,  0.12789202],\n",
    "       [ 0.28086119,  0.27569815,  0.18063401],\n",
    "       [ 0.26076848,  0.23892179,  0.23664738],\n",
    "       [ 0.29198961,  0.26234032,  0.16505091],\n",
    "       [ 0.34396535,  0.24206137,  0.16240774]]), indices=array([[3, 0, 5],\n",
    "       [0, 1, 4],\n",
    "       [0, 5, 1],\n",
    "       [1, 3, 5],\n",
    "       [1, 4, 3]], dtype=int32))\n",
    "```\n",
    "\n",
    "Looking just at the first row we get `[ 0.34763842,  0.24879643,  0.12789202]`, you can confirm these are the 3 largest probabilities in `a`. You'll also notice `[3, 0, 5]` are the corresponding indices."
   ]
  },
  {
   "cell_type": "code",
   "execution_count": null,
   "metadata": {
    "collapsed": true
   },
   "outputs": [],
   "source": [
    "### Print out the top five softmax probabilities for the predictions on the German traffic sign images found on the web. \n",
    "### Feel free to use as many code cells as needed."
   ]
  },
  {
   "cell_type": "markdown",
   "metadata": {},
   "source": [
    "### Project Writeup\n",
    "\n",
    "Once you have completed the code implementation, document your results in a project writeup using this [template](https://github.com/udacity/CarND-Traffic-Sign-Classifier-Project/blob/master/writeup_template.md) as a guide. The writeup can be in a markdown or pdf file. "
   ]
  },
  {
   "cell_type": "markdown",
   "metadata": {},
   "source": [
    "> **Note**: Once you have completed all of the code implementations and successfully answered each question above, you may finalize your work by exporting the iPython Notebook as an HTML document. You can do this by using the menu above and navigating to  \\n\",\n",
    "    \"**File -> Download as -> HTML (.html)**. Include the finished document along with this notebook as your submission."
   ]
  },
  {
   "cell_type": "markdown",
   "metadata": {},
   "source": [
    "---\n",
    "\n",
    "## Step 4 (Optional): Visualize the Neural Network's State with Test Images\n",
    "\n",
    " This Section is not required to complete but acts as an additional excersise for understaning the output of a neural network's weights. While neural networks can be a great learning device they are often referred to as a black box. We can understand what the weights of a neural network look like better by plotting their feature maps. After successfully training your neural network you can see what it's feature maps look like by plotting the output of the network's weight layers in response to a test stimuli image. From these plotted feature maps, it's possible to see what characteristics of an image the network finds interesting. For a sign, maybe the inner network feature maps react with high activation to the sign's boundary outline or to the contrast in the sign's painted symbol.\n",
    "\n",
    " Provided for you below is the function code that allows you to get the visualization output of any tensorflow weight layer you want. The inputs to the function should be a stimuli image, one used during training or a new one you provided, and then the tensorflow variable name that represents the layer's state during the training process, for instance if you wanted to see what the [LeNet lab's](https://classroom.udacity.com/nanodegrees/nd013/parts/fbf77062-5703-404e-b60c-95b78b2f3f9e/modules/6df7ae49-c61c-4bb2-a23e-6527e69209ec/lessons/601ae704-1035-4287-8b11-e2c2716217ad/concepts/d4aca031-508f-4e0b-b493-e7b706120f81) feature maps looked like for it's second convolutional layer you could enter conv2 as the tf_activation variable.\n",
    "\n",
    "For an example of what feature map outputs look like, check out NVIDIA's results in their paper [End-to-End Deep Learning for Self-Driving Cars](https://devblogs.nvidia.com/parallelforall/deep-learning-self-driving-cars/) in the section Visualization of internal CNN State. NVIDIA was able to show that their network's inner weights had high activations to road boundary lines by comparing feature maps from an image with a clear path to one without. Try experimenting with a similar test to show that your trained network's weights are looking for interesting features, whether it's looking at differences in feature maps from images with or without a sign, or even what feature maps look like in a trained network vs a completely untrained one on the same sign image.\n",
    "\n",
    "<figure>\n",
    " <img src=\"visualize_cnn.png\" width=\"380\" alt=\"Combined Image\" />\n",
    " <figcaption>\n",
    " <p></p> \n",
    " <p style=\"text-align: center;\"> Your output should look something like this (above)</p> \n",
    " </figcaption>\n",
    "</figure>\n",
    " <p></p> \n"
   ]
  },
  {
   "cell_type": "code",
   "execution_count": null,
   "metadata": {
    "collapsed": true
   },
   "outputs": [],
   "source": [
    "### Visualize your network's feature maps here.\n",
    "### Feel free to use as many code cells as needed.\n",
    "\n",
    "# image_input: the test image being fed into the network to produce the feature maps\n",
    "# tf_activation: should be a tf variable name used during your training procedure that represents the calculated state of a specific weight layer\n",
    "# activation_min/max: can be used to view the activation contrast in more detail, by default matplot sets min and max to the actual min and max values of the output\n",
    "# plt_num: used to plot out multiple different weight feature map sets on the same block, just extend the plt number for each new feature map entry\n",
    "\n",
    "def outputFeatureMap(image_input, tf_activation, activation_min=-1, activation_max=-1 ,plt_num=1):\n",
    "    # Here make sure to preprocess your image_input in a way your network expects\n",
    "    # with size, normalization, ect if needed\n",
    "    # image_input =\n",
    "    # Note: x should be the same name as your network's tensorflow data placeholder variable\n",
    "    # If you get an error tf_activation is not defined it may be having trouble accessing the variable from inside a function\n",
    "    activation = tf_activation.eval(session=sess,feed_dict={x : image_input})\n",
    "    featuremaps = activation.shape[3]\n",
    "    plt.figure(plt_num, figsize=(15,15))\n",
    "    for featuremap in range(featuremaps):\n",
    "        plt.subplot(6,8, featuremap+1) # sets the number of feature maps to show on each row and column\n",
    "        plt.title('FeatureMap ' + str(featuremap)) # displays the feature map number\n",
    "        if activation_min != -1 & activation_max != -1:\n",
    "            plt.imshow(activation[0,:,:, featuremap], interpolation=\"nearest\", vmin =activation_min, vmax=activation_max, cmap=\"gray\")\n",
    "        elif activation_max != -1:\n",
    "            plt.imshow(activation[0,:,:, featuremap], interpolation=\"nearest\", vmax=activation_max, cmap=\"gray\")\n",
    "        elif activation_min !=-1:\n",
    "            plt.imshow(activation[0,:,:, featuremap], interpolation=\"nearest\", vmin=activation_min, cmap=\"gray\")\n",
    "        else:\n",
    "            plt.imshow(activation[0,:,:, featuremap], interpolation=\"nearest\", cmap=\"gray\")"
   ]
  },
  {
   "cell_type": "code",
   "execution_count": null,
   "metadata": {
    "collapsed": true
   },
   "outputs": [],
   "source": []
  }
 ],
 "metadata": {
  "anaconda-cloud": {},
  "kernelspec": {
   "display_name": "Python 3",
   "language": "python",
   "name": "python3"
  },
  "language_info": {
   "codemirror_mode": {
    "name": "ipython",
    "version": 3
   },
   "file_extension": ".py",
   "mimetype": "text/x-python",
   "name": "python",
   "nbconvert_exporter": "python",
   "pygments_lexer": "ipython3",
   "version": "3.5.2"
  },
  "widgets": {
   "state": {},
   "version": "1.1.2"
  }
 },
 "nbformat": 4,
 "nbformat_minor": 1
}
